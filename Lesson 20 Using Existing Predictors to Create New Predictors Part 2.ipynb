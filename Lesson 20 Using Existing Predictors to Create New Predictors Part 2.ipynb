{
 "cells": [
  {
   "cell_type": "markdown",
   "id": "7ce3462e-07b8-4c4e-aef5-48525db33735",
   "metadata": {
    "editable": true,
    "slideshow": {
     "slide_type": ""
    },
    "tags": []
   },
   "source": [
    "**SM339 &#x25aa; Applied Statistics &#x25aa; Spring 2024 &#x25aa; Uhan**"
   ]
  },
  {
   "cell_type": "markdown",
   "id": "3f15eb73-2724-4a84-afb4-ed4aba74f5c2",
   "metadata": {
    "editable": true,
    "slideshow": {
     "slide_type": ""
    },
    "tags": []
   },
   "source": [
    "# Lesson 20. Using Existing Predictors to Create New Predictors &mdash; Part 2"
   ]
  },
  {
   "cell_type": "markdown",
   "id": "67727e91-0817-4a00-8bb2-cea401a7cf5c",
   "metadata": {
    "editable": true,
    "slideshow": {
     "slide_type": ""
    },
    "tags": []
   },
   "source": [
    "_Setup._ Tweak the width and height values below to adjust the size of your plots in this notebook."
   ]
  },
  {
   "cell_type": "code",
   "execution_count": null,
   "id": "633348e2-ff9c-4dfc-9f0e-180c51ebf40b",
   "metadata": {
    "editable": true,
    "slideshow": {
     "slide_type": ""
    },
    "tags": []
   },
   "outputs": [],
   "source": [
    "options(repr.plot.width=8, repr.plot.height=8)"
   ]
  },
  {
   "cell_type": "markdown",
   "id": "43008d49-9349-4f06-b25e-5c44e8337cfa",
   "metadata": {
    "editable": true,
    "slideshow": {
     "slide_type": ""
    },
    "tags": []
   },
   "source": [
    "## Including polynomial terms"
   ]
  },
  {
   "cell_type": "markdown",
   "id": "fdf8de40-9f33-4e5b-acdf-e61f57e15b64",
   "metadata": {
    "editable": true,
    "slideshow": {
     "slide_type": ""
    },
    "tags": []
   },
   "source": [
    "- Consider the following model with polynomial terms:\n",
    "\n",
    "    $$ Y = \\beta_0 + \\beta_1 X_1 + \\beta_2 X_2 + \\beta_3 X_1^2 + \\beta_4 X_2^2 + \\varepsilon \\qquad \\varepsilon \\sim N(0, \\sigma_{\\varepsilon}^2) $$\n",
    "\n",
    "- We can fit such a model with the following R code:\n",
    "\n",
    "```r\n",
    "fit <- lm(y ~ x1 + I(x1^2) + x2 + I(x2^2))\n",
    "```\n",
    "\n",
    "- `I()` is used to ensure that operators are treated as math"
   ]
  },
  {
   "cell_type": "markdown",
   "id": "aa08b91b-eba2-4bcd-96ad-94d79ad75075",
   "metadata": {
    "editable": true,
    "slideshow": {
     "slide_type": ""
    },
    "tags": []
   },
   "source": [
    "## Including an interaction term"
   ]
  },
  {
   "cell_type": "markdown",
   "id": "7dc0f9a5-5df8-44d3-9626-b4992504a3a5",
   "metadata": {
    "editable": true,
    "slideshow": {
     "slide_type": ""
    },
    "tags": []
   },
   "source": [
    "- Consider the following model with polynomial terms:\n",
    "\n",
    "    $$ Y = \\beta_0 + \\beta_1 X_1 + \\beta_2 X_2 + \\beta_3 X_1 X_2 + \\varepsilon \\qquad \\varepsilon \\sim N(0, \\sigma_{\\varepsilon}^2) $$\n",
    "\n",
    "- We can fit such a model with the following R code:\n",
    "\n",
    "```r\n",
    "fit <- lm(y ~ x1 + x2 + x1:x2)\n",
    "```"
   ]
  },
  {
   "cell_type": "markdown",
   "id": "e6f55c9a-2bb9-4e2f-aa94-b273e688f8c2",
   "metadata": {
    "editable": true,
    "slideshow": {
     "slide_type": ""
    },
    "tags": []
   },
   "source": [
    "## Example 1"
   ]
  },
  {
   "cell_type": "markdown",
   "id": "1fe965ea-29c5-4635-9151-a7b927e48e9b",
   "metadata": {
    "editable": true,
    "slideshow": {
     "slide_type": ""
    },
    "tags": []
   },
   "source": [
    "The dataset `Perch` contains the weight (in grams), length (in centimeters), and width (in centimeters) for 56 perch caught in a lake in Finland.\n",
    "\n",
    "![https://www.flickr.com/photos/chesbayprogram/26004012710](img/perch.jpg)"
   ]
  },
  {
   "cell_type": "code",
   "execution_count": null,
   "id": "f1cfb523-570e-437a-98b6-40ba9da5b58f",
   "metadata": {
    "editable": true,
    "slideshow": {
     "slide_type": ""
    },
    "tags": []
   },
   "outputs": [],
   "source": [
    "library(Stat2Data)\n",
    "data(Perch)"
   ]
  },
  {
   "cell_type": "markdown",
   "id": "8c43c699-162e-4308-9cf5-1df7c296c831",
   "metadata": {
    "editable": true,
    "slideshow": {
     "slide_type": ""
    },
    "tags": []
   },
   "source": [
    "We would like to find a model that does a good job predicting perch weight based on the fish's width and/or length.\n",
    "We'll explore three potential models.\n",
    "For each one, report whether the linearity condition appears to be met, and the $R^2_{adj}$ value."
   ]
  },
  {
   "cell_type": "markdown",
   "id": "249c95f6-53a2-4dbd-a632-9c1dc85d9003",
   "metadata": {
    "editable": true,
    "slideshow": {
     "slide_type": ""
    },
    "tags": []
   },
   "source": [
    "### a.\n",
    "__Model 1.__\n",
    "A two-predictor model using linear terms for both predictors.\n",
    "\n",
    "$$ \\mathit{Weight} = \\beta_0 + \\beta_1 \\mathit{Width} + \\beta_2 \\mathit{Length} + \\varepsilon \\qquad \\varepsilon \\sim N(0, \\sigma_{\\varepsilon}^2) $$"
   ]
  },
  {
   "cell_type": "code",
   "execution_count": null,
   "id": "a9842a4e-f24e-4297-bb24-bedef6fb66ad",
   "metadata": {
    "editable": true,
    "slideshow": {
     "slide_type": ""
    },
    "tags": []
   },
   "outputs": [],
   "source": []
  },
  {
   "cell_type": "markdown",
   "id": "d562e581-288f-44c0-b414-89a92ad0e11a",
   "metadata": {
    "editable": true,
    "slideshow": {
     "slide_type": ""
    },
    "tags": []
   },
   "source": [
    "*Write your notes here. Double-click to edit.*"
   ]
  },
  {
   "cell_type": "markdown",
   "id": "f6e0f6b1-069e-4b44-8f1d-ad69f0015e47",
   "metadata": {
    "editable": true,
    "slideshow": {
     "slide_type": ""
    },
    "tags": []
   },
   "source": [
    "### b.\n",
    "__Model 2.__\n",
    "A model that includes both predictors and their interaction.\n",
    "\n",
    "$$ \\mathit{Weight} = \\beta_0 + \\beta_1 \\mathit{Width} + \\beta_2 \\mathit{Length} + \\beta_3 (\\mathit{Width} \\times \\mathit{Length}) + \\varepsilon \\qquad \\varepsilon \\sim N(0, \\sigma_{\\varepsilon}^2) $$"
   ]
  },
  {
   "cell_type": "code",
   "execution_count": null,
   "id": "1f20d17a-1f84-47d2-8158-10a32b670c1b",
   "metadata": {
    "editable": true,
    "slideshow": {
     "slide_type": ""
    },
    "tags": []
   },
   "outputs": [],
   "source": []
  },
  {
   "cell_type": "markdown",
   "id": "eaec2d79-064f-4e96-8bfb-defcbca3b60f",
   "metadata": {
    "editable": true,
    "slideshow": {
     "slide_type": ""
    },
    "tags": []
   },
   "source": [
    "*Write your notes here. Double-click to edit.*"
   ]
  },
  {
   "cell_type": "markdown",
   "id": "1a40eb7c-f416-4d67-b5b6-c90f923e37ef",
   "metadata": {
    "editable": true,
    "slideshow": {
     "slide_type": ""
    },
    "tags": []
   },
   "source": [
    "### c.\n",
    "__Model 3.__\n",
    "A complete second order model.\n",
    "\n",
    "$$ \\mathit{Weight} = \\beta_0 + \\beta_1 \\mathit{Width} + \\beta_2 \\mathit{Length} + \\beta_3 (\\mathit{Width} \\times \\mathit{Length}) + \\beta_4 \\mathit{Width}^2 + \\beta_5 \\mathit{Length}^2 + \\varepsilon \\qquad \\varepsilon \\sim N(0, \\sigma_{\\varepsilon}^2) $$"
   ]
  },
  {
   "cell_type": "code",
   "execution_count": null,
   "id": "ff3d61c2-e404-45c5-a156-b51578311407",
   "metadata": {
    "editable": true,
    "slideshow": {
     "slide_type": ""
    },
    "tags": []
   },
   "outputs": [],
   "source": []
  },
  {
   "cell_type": "markdown",
   "id": "f5c5d77d-9ec1-4c6c-a3d3-ad1e3e666831",
   "metadata": {
    "editable": true,
    "slideshow": {
     "slide_type": ""
    },
    "tags": []
   },
   "source": [
    "*Write your notes here. Double-click to edit.*"
   ]
  },
  {
   "cell_type": "markdown",
   "id": "dca4db29-1b96-4b9f-8fcb-3628fc426ff1",
   "metadata": {
    "editable": true,
    "slideshow": {
     "slide_type": ""
    },
    "tags": []
   },
   "source": [
    "### d.\n",
    "Based on your findings above, which of these models do you think is best? Why? Consider diagnostic plots, $R_{adj}^2$, and model complexity."
   ]
  },
  {
   "cell_type": "markdown",
   "id": "61bf2e3c-03f3-4a0b-b57d-5567a5765b4b",
   "metadata": {
    "editable": true,
    "slideshow": {
     "slide_type": ""
    },
    "tags": []
   },
   "source": [
    "*Write your notes here. Double-click to edit.*"
   ]
  },
  {
   "cell_type": "markdown",
   "id": "ca54079e-7f15-4f0a-bfc6-a3c258258017",
   "metadata": {
    "editable": true,
    "slideshow": {
     "slide_type": ""
    },
    "tags": []
   },
   "source": [
    "<div class=\"alert alert-warning\">\n",
    "    Remember:\n",
    "    <blockquote>All models are wrong, but some are useful. -George Box</blockquote>\n",
    "</div>"
   ]
  },
  {
   "cell_type": "markdown",
   "id": "03cf0b76-d853-4dd4-9da8-5ca30dce89b7",
   "metadata": {
    "editable": true,
    "slideshow": {
     "slide_type": ""
    },
    "tags": []
   },
   "source": [
    "## Some more notes"
   ]
  },
  {
   "cell_type": "markdown",
   "id": "de2dc8ee-6983-43eb-9ade-db7211c11147",
   "metadata": {
    "editable": true,
    "slideshow": {
     "slide_type": ""
    },
    "tags": []
   },
   "source": [
    "- Why not just throw in everything we can think of?\n",
    "\n",
    "- This will improve the fit to our sampled data, but probably won't generalize to the population\n",
    "\n",
    "- Also, with more predictors, we lose degrees of freedom when calculating standard errors (SE), so confidence intervals and prediction intervals get wider, making it \"harder\" to reject hypotheses\n",
    "\n",
    "- So... we only want to include as many terms as we need to actually make a significant difference &mdash; we don't want extra noise"
   ]
  },
  {
   "cell_type": "markdown",
   "id": "9e545d7c-a04e-451b-9491-fa85d477d08f",
   "metadata": {
    "editable": true,
    "slideshow": {
     "slide_type": ""
    },
    "tags": []
   },
   "source": [
    "## Recap: ways to compare models"
   ]
  },
  {
   "cell_type": "markdown",
   "id": "8848f985-72ff-4723-86cb-3edcbcff2bf7",
   "metadata": {
    "editable": true,
    "slideshow": {
     "slide_type": ""
    },
    "tags": []
   },
   "source": [
    "- Adjusted $R^2$\n",
    "\n",
    "- Which is simpler (if $R^2_{adj}$ values are close)\n",
    "\n",
    "- Check linearity condition (and other conditions if inference is desired)\n",
    "\n",
    "- Individual $t$-test $p$-values (for single terms)"
   ]
  }
 ],
 "metadata": {
  "kernelspec": {
   "display_name": "R",
   "language": "R",
   "name": "ir"
  },
  "language_info": {
   "codemirror_mode": "r",
   "file_extension": ".r",
   "mimetype": "text/x-r-source",
   "name": "R",
   "pygments_lexer": "r",
   "version": "4.3.2"
  }
 },
 "nbformat": 4,
 "nbformat_minor": 5
}
